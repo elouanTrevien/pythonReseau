{
 "cells": [
  {
   "cell_type": "markdown",
   "metadata": {},
   "source": [
    "# Réseau"
   ]
  },
  {
   "cell_type": "markdown",
   "metadata": {},
   "source": [
    "Un réseau informatique fait référence à un nombre quelconque de systèmes informatiques indépendants qui sont reliés entre eux pour qu'un échange de données soit réalisable. Ils peuvent être mis en place dans le but de transférer des données d'un système à un autre ou de fournir des ressources partagées comme par exemple les serveurs.  \n",
    "Il existe différents types de réseau comme les réseaux LAN (Local Area Network) ou WAN (Wide Area Network).  \n",
    "Les systèmes peuvent être connectés de manière physique (filaire) ou sans fil."
   ]
  },
  {
   "cell_type": "markdown",
   "metadata": {},
   "source": [
    "## Serveur LAN    \n",
    "Un réseau local, ou LAN (Local Area Network), est un groupe d'ordinateurs et de périphériques associés qui partagent des liaisons de communication filaires ou sans fil. En général, les périphériques connectés partagent les ressources d'un seul serveur au sein d'une zone géographique restreinte.\n",
    "Dans l'architecture d'un réseau, on trouve en général un serveur et plusieurs clients qui vont envoyer des requêtes au serveur."
   ]
  },
  {
   "cell_type": "markdown",
   "metadata": {},
   "source": [
    "## Mais comment communiquent les systèmes à distances ?  \n",
    "Des machines distantes communiquent entre elles grâce à leur adresse IP. Une machine cliente (qui demande un service) contacte une machine serveur qui répondra à sa demande. On a donc une logique de client-serveur. L'un fait une demande, l'autre lui apporte une réponse.  \n",
    "Cependant un serveur peut héberger plusieurs services comme un serveur web ou un service de messagerie.  \n",
    "### Différentes étapes de la communication serveur/clients  \n",
    "Le serveur :  \n",
    "1. attend une connexion de la part du client ;  \n",
    "2. accepte la connexion quand le client se connecte ;  \n",
    "3. échange des informations avec le client ;  \n",
    "4. ferme la connexion.  \n",
    "\n",
    "Le client :  \n",
    "1. se connecte au serveur ;  \n",
    "2. échange des informations avec le serveur ;  \n",
    "3. ferme la connexion.  \n",
    "  \n",
    "Le serveur peut ainsi communiquer avec plusieurs clients, et non avec un seul sinon il faudrait attendre pour accéder à la page voulue.  \n",
    "Cependant un serveur héberger plusieurs services comme un serveur web ou un serveur de messagerie.  \n",
    "Mais alors comment se connecter au bon service? En utilisant les ports qui permettent à l'ordinateur de recevoir ou émettre des informations. Les ports les plus connus sont 21 pour le FTP, 80 pour le HTTP, 443 pour le HTTPS. Si le port est fermé l'échange d'informations ne se fera évidemment pas.  \n"
   ]
  },
  {
   "cell_type": "markdown",
   "metadata": {},
   "source": [
    "### Sockets  \n",
    "Socket est une bibliothèque pour programmer en python avec le réseau. C'est un programme qui va tourner en boucle au niveau du port de la machine qui lui a été dédié. On dit d'ailleurs que le programme écoute le port qui lui a été réservé. Il écoute le port et répond aux demandes faites par ce port.  \n",
    "Les sockets permettent aussi d'ouvrir une connexion avec une machine locale ou distante et d'échanger avec elle."
   ]
  },
  {
   "cell_type": "code",
   "execution_count": 51,
   "metadata": {},
   "outputs": [
    {
     "name": "stdout",
     "output_type": "stream",
     "text": [
      "80.13.3.35\n"
     ]
    }
   ],
   "source": [
    "#Permet d'avoir l'adresse IP d'un site web \n",
    "import socket\n",
    "adresse1 = socket.gethostbyname('jupyterhub.ecmorlaix.bzh')\n",
    "print(adresse1)"
   ]
  },
  {
   "cell_type": "code",
   "execution_count": null,
   "metadata": {},
   "outputs": [],
   "source": [
    "def IP():\n",
    "    s = socket.socket(socket.AF_INET, socket.SOCK_DGRAM)\n",
    "    s.connect(('google.com', 0))\n",
    "    return s.getsockname()[0]\n",
    " \n",
    "monIP = IP()\n",
    "print(monIP)"
   ]
  },
  {
   "cell_type": "code",
   "execution_count": null,
   "metadata": {},
   "outputs": [
    {
     "name": "stdout",
     "output_type": "stream",
     "text": [
      "Le serveur écoute à présent sur le port 12800\n"
     ]
    }
   ],
   "source": [
    "#Permet de créer un serveur grâce aux sockets\n",
    "import socket\n",
    "\n",
    "hote = ''\n",
    "port = 12800\n",
    "\n",
    "#Le socket prend 2 paramètres : \n",
    "#socket.AF_INET : la famille d'adresse, ici des adresses internet \n",
    "#socket.SOCK_STREAM : type du socket, SOCK_STREAM pour le protocole TCP\n",
    "connexion_principale = socket.socket(socket.AF_INET, socket.SOCK_STREAM)\n",
    "\n",
    "#Permet de créer la connexion avec le client avec la méthode bind, elle prend 2 paramètres : (nom-hote, port)\n",
    "connexion_principale.bind((hote, port))\n",
    "\n",
    "#Précise le nombre max de connexions qu'il peut recevoir sur ce port sans les accepter\n",
    "connexion_principale.listen(5)\n",
    "print(\"Le serveur écoute à présent sur le port {}\".format(port))\n",
    "\n",
    "#Permet d'accepter une connexion avec le client \n",
    "connexion_avec_client, infos_connexion = connexion_principale.accept()\n",
    "\n"
   ]
  },
  {
   "cell_type": "code",
   "execution_count": null,
   "metadata": {},
   "outputs": [],
   "source": [
    "#Construction du client qui communiquera avec le serveur\n",
    "import socket\n",
    "hote = \"localhost\"\n",
    "port = 12800\n",
    "\n",
    "connexion_avec_serveur = socket.socket(socket.AF_INET, socket.SOCK_STREAM)\n",
    "connexion_avec_serveur.connect((hote, port))\n",
    "print(\"Connexion établie avec le serveur sur le port {}\".format(port))\n"
   ]
  },
  {
   "cell_type": "markdown",
   "metadata": {
    "collapsed": true
   },
   "source": [
    "#### Liens :\n",
    "https://openclassrooms.com/fr/courses/235344-apprenez-a-programmer-en-python/234698-gerez-les-reseaux"
   ]
  },
  {
   "cell_type": "markdown",
   "metadata": {
    "collapsed": true
   },
   "source": [
    "### Wireshark"
   ]
  },
  {
   "cell_type": "markdown",
   "metadata": {},
   "source": [
    "Wireshark est un analyseur de paquets libre et gratuit. Il est utilisé dans le dépannage et l’analyse de réseaux informatiques, le développement de protocoles, l’éducation et la rétro-ingénierie. \n",
    "  Wireshark utilise la bibliothèque logicielle GTK+ pour l’implémentation de son interface utilisateur ; il fonctionne sur de nombreux environnements compatibles UNIX comme GNU/Linux, FreeBSD, NetBSD, OpenBSD ou Mac OSX, mais également sur Microsoft Windows. \n",
    "  Il permet d'analyser un trafic enregistré dans un fichier annexe, mais également et\n",
    "surtout le trafic en direct sur des interfaces réseau. Cette seconde fonction nécessite de posséder\n",
    "les droits administrateurs, ou d'appartenir à un groupe possédant ces droits. "
   ]
  },
  {
   "cell_type": "markdown",
   "metadata": {},
   "source": [
    "| Couleur |  Utilisation |\n",
    "|---------|--------------|\n",
    "| Mauve   | Traffic TCP  |\n",
    "| Gris      | Traffic TCP |\n",
    "| Rouge      | Traffic TCP |\n",
    "| Noir       | Paquet avec erreur|\n",
    "| Vert      | Traffic HTTP |\n",
    "| Bleu     | Traffic DNS / Traffic UDP |"
   ]
  },
  {
   "cell_type": "markdown",
   "metadata": {},
   "source": [
    "<li>TCP : Tansmission Control Protocol\n",
    "<li>HTTP : Hypertext Transfert Protocol\n",
    "<li>DNS : Domain Name System\n",
    "<li>UDP : User Datagram Protocol</li>"
   ]
  },
  {
   "cell_type": "markdown",
   "metadata": {},
   "source": [
    "<u>Application :</u>"
   ]
  },
  {
   "cell_type": "markdown",
   "metadata": {},
   "source": [
    "- http://www.stashofcode.fr/traceroute-roots-en-python-avec-scapy/"
   ]
  },
  {
   "cell_type": "markdown",
   "metadata": {},
   "source": [
    "Lorsqu'un paquet est sélectionné, la zone centrale permet de visualiser clairement les\n",
    "différentes couches d'encapsulation du paquet.\n",
    "Les 5 entrées présentées correspondent à différentes encapsulations, ordonnées de la couche la plus basse à la couche la plus haute :"
   ]
  },
  {
   "cell_type": "markdown",
   "metadata": {},
   "source": [
    "<li>Données sur le média de capture \n",
    "<li>Trame relative à la couche liaison de donnée \n",
    "<li>Paquet relatif à la couche réseau \n",
    "<li>Datagramme relatif à la couche transport \n",
    "<li>Données de l'application : regroupe généralement les couches session, présentation, application."
   ]
  },
  {
   "cell_type": "code",
   "execution_count": null,
   "metadata": {},
   "outputs": [],
   "source": []
  }
 ],
 "metadata": {
  "kernelspec": {
   "display_name": "Python 3",
   "language": "python",
   "name": "python3"
  },
  "language_info": {
   "codemirror_mode": {
    "name": "ipython",
    "version": 3
   },
   "file_extension": ".py",
   "mimetype": "text/x-python",
   "name": "python",
   "nbconvert_exporter": "python",
   "pygments_lexer": "ipython3",
   "version": "3.6.5"
  }
 },
 "nbformat": 4,
 "nbformat_minor": 2
}
