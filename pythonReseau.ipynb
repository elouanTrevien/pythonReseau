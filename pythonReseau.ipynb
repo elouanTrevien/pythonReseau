{
 "cells": [
  {
   "cell_type": "markdown",
   "metadata": {},
   "source": [
    "# Réseau"
   ]
  },
  {
   "cell_type": "markdown",
   "metadata": {},
   "source": [
    "Un réseau informatique fait référence à un nombre quelconque de systèmes informatiques indépendants qui sont reliés entre eux pour qu'un échange de données soit réalisable. Ils peuvent être mis en place dans le but de transférer des données d'un système à un autre ou de fournir des ressources partagées comme par exemple les serveurs.  \n",
    "Il existe différents types de réseau comme les réseaux LAN (Local Area Network) ou WAN (Wide Area Network).  \n",
    "Les systèmes peuvent être connectés de manière physique (filaire) ou sans fil."
   ]
  },
  {
   "cell_type": "markdown",
   "metadata": {},
   "source": [
    "## Serveur LAN    \n",
    "Un réseau local, ou LAN (Local Area Network), est un groupe d'ordinateurs et de périphériques associés qui partagent des liaisons de communication filaires ou sans fil. En général, les périphériques connectés partagent les ressources d'un seul serveur au sein d'une zone géographique restreinte.\n",
    "Dans l'architecture d'un réseau, on trouve en général un serveur et plusieurs clients qui vont envoyer des requêtes au serveur."
   ]
  },
  {
   "cell_type": "markdown",
   "metadata": {},
   "source": [
    "## Mais comment communiquent les systèmes à distances ?  \n",
    "Des machines distantes communiquent entre elles grâce à leur adresse IP. Une machine cliente (qui demande un service) contacte une machine serveur qui répondra à sa demande. On a donc une logique de client-serveur. L'un fait une demande, l'autre lui apporte une réponse.  \n",
    "Cependant un serveur peut héberger plusieurs services comme un serveur web ou un service de messagerie.  \n",
    "### Différentes étapes de la communication serveur/clients  \n",
    "Le serveur :  \n",
    "1. attend une connexion de la part du client ;  \n",
    "2. accepte la connexion quand le client se connecte ;  \n",
    "3. échange des informations avec le client ;  \n",
    "4. ferme la connexion.  \n",
    "\n",
    "Le client :  \n",
    "1. se connecte au serveur ;  \n",
    "2. échange des informations avec le serveur ;  \n",
    "3. ferme la connexion.  \n",
    "  \n",
    "Le serveur peut ainsi communiquer avec plusieurs clients, et non avec un seul sinon il faudrait attendre pour accéder à la page voulue.  \n",
    "Cependant un serveur peut héberger plusieurs services comme un serveur web ou un serveur de messagerie.  \n",
    "Mais alors comment se connecter au bon service? En utilisant les ports qui sont un système permettant à l'ordinateur de recevoir ou émettre des informations. "
   ]
  },
  {
   "cell_type": "markdown",
   "metadata": {},
   "source": [
    "De plus les ordinateurs communiquent entre eux grâce à leurs adresses IP basées sur le protocole TCP/IP qui représente l'ensemble des règles de communication sur internet. Il va fournir une adresse IP à chaque machine du réseau afin de pouvoir acheminer des paquets de données et va pouvoir permettre d'identifier un élément dans un réseau Internet.  \n",
    "Chaque protocole a un port qui lui ai dédié, les plus connus sont :  \n",
    " - 443 : le protocole https   \n",
    " - 80 : le protocole http  \n",
    " - 21 : le protocole FTP    \n",
    " Il existe en tout 65 535 ports."
   ]
  },
  {
   "cell_type": "markdown",
   "metadata": {},
   "source": [
    "### Sockets  \n",
    "Socket est une bibliothèque pour programmer en python avec le réseau. C'est un programme qui va tourner en boucle au niveau du port de la machine qui lui a été dédié. On dit d'ailleurs que le programme écoute le port qui lui a été réservé. Il écoute le port et répond aux demandes faites par ce port.  \n",
    "Les sockets permettent aussi d'ouvrir une connexion avec une machine locale ou distante, c'est à dire sur Internet, et d'échanger avec elle.  \n",
    "On peut ainsi créer un serveur et un client grâce aux sockets.\n",
    "En résumé :  \n",
    "- On créé le serveur et le client avec socket.\n",
    "- On fait communiquer les 2.\n",
    "- Puis le serveur configuré pour être à l'écoute, va recevoir les requêtes du client et les traiter.\n"
   ]
  },
  {
   "cell_type": "code",
   "execution_count": null,
   "metadata": {
    "collapsed": true
   },
   "outputs": [],
   "source": []
  }
 ],
 "metadata": {
  "kernelspec": {
   "display_name": "Python 3",
   "language": "python",
   "name": "python3"
  },
  "language_info": {
   "codemirror_mode": {
    "name": "ipython",
    "version": 3
   },
   "file_extension": ".py",
   "mimetype": "text/x-python",
   "name": "python",
   "nbconvert_exporter": "python",
   "pygments_lexer": "ipython3",
   "version": "3.6.0"
  }
 },
 "nbformat": 4,
 "nbformat_minor": 2
}
