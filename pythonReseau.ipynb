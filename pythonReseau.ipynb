{
 "cells": [
  {
   "cell_type": "markdown",
   "metadata": {},
   "source": [
    "# Réseau"
   ]
  },
  {
   "cell_type": "markdown",
   "metadata": {},
   "source": [
    "Un réseau informatique fait référence à un nombre quelconque de systèmes informatiques indépendants qui sont reliés entre eux pour qu'un échange de données soit réalisable. Ils peuvent être mis en place dans le but de transférer des données d'un système à un autre ou de fournir des ressources partagées comme par exemple les serveurs.  \n",
    "Il existe différents types de réseau comme les réseaux LAN (Local Area Network) ou WAN (Wide Area Network).  \n",
    "Les systèmes peuvent être connectés de manière physique (filaire) ou sans fil."
   ]
  },
  {
   "cell_type": "markdown",
   "metadata": {},
   "source": [
    "## Mais comment communiquent les systèmes à distances ?"
   ]
  },
  {
   "cell_type": "markdown",
   "metadata": {},
   "source": [
    "Des machines distantes communiquent entre elles grâce à leur adresse IP. Une machine cliente (qui demande un service) contacte une machine serveur qui répondra à sa demande. On a donc une logique de client-serveur. L'un fait une demande, l'autre lui apporte une réponse.  \n",
    "Cependant un serveur peut héberger plusieurs services comme un serveur web ou un service de messagerie."
   ]
  },
  {
   "cell_type": "markdown",
   "metadata": {},
   "source": [
    "Alors comment se connecter au bon service? En utilisant les ports . Les ports les plus connus sont 21 pour le FTP, 80 pour le HTTP, 443 pour le HTTPS, le 22 pour le SSH, 110 pour le service POP, etc.  \n",
    "Si vous voulez voir sur quels ports tournent vos services vous pouvez exécuter la commande suivante:  \n"
   ]
  },
  {
   "cell_type": "code",
   "execution_count": 1,
   "metadata": {},
   "outputs": [
    {
     "ename": "SyntaxError",
     "evalue": "invalid syntax (<ipython-input-1-45986b2326b0>, line 1)",
     "output_type": "error",
     "traceback": [
      "\u001b[0;36m  File \u001b[0;32m\"<ipython-input-1-45986b2326b0>\"\u001b[0;36m, line \u001b[0;32m1\u001b[0m\n\u001b[0;31m    sudo cat /etc/services\u001b[0m\n\u001b[0m           ^\u001b[0m\n\u001b[0;31mSyntaxError\u001b[0m\u001b[0;31m:\u001b[0m invalid syntax\n"
     ]
    }
   ],
   "source": [
    "sudo cat /etc/services  "
   ]
  },
  {
   "cell_type": "code",
   "execution_count": null,
   "metadata": {},
   "outputs": [],
   "source": []
  }
 ],
 "metadata": {
  "kernelspec": {
   "display_name": "Python 3",
   "language": "python",
   "name": "python3"
  },
  "language_info": {
   "codemirror_mode": {
    "name": "ipython",
    "version": 3
   },
   "file_extension": ".py",
   "mimetype": "text/x-python",
   "name": "python",
   "nbconvert_exporter": "python",
   "pygments_lexer": "ipython3",
   "version": "3.6.5"
  }
 },
 "nbformat": 4,
 "nbformat_minor": 2
}
